{
 "cells": [
  {
   "cell_type": "code",
   "execution_count": 275,
   "metadata": {
    "collapsed": false,
    "nbpresent": {
     "id": "62465eee-d0f0-4314-8bb4-f48de0cc1265"
    }
   },
   "outputs": [],
   "source": [
    "import numpy as np\n",
    "import pandas as pd\n",
    "from matplotlib import pyplot as plt\n",
    "%matplotlib inline\n",
    "\n",
    "from keras.models import Sequential\n",
    "from keras.layers import Dense\n",
    "from keras.layers import LSTM\n",
    "from keras.layers import Dropout\n",
    "from keras.layers import Activation\n",
    "from keras.preprocessing.sequence import pad_sequences\n",
    "\n",
    "# from IPython.display import SVG\n",
    "# from keras.utils.vis_utils import model_to_dot\n",
    "\n",
    "# from tensorflow.contrib import learn\n",
    "from sklearn.metrics import mean_squared_error, mean_absolute_error\n",
    "\n",
    "# import other packages"
   ]
  },
  {
   "cell_type": "code",
   "execution_count": 219,
   "metadata": {
    "collapsed": true
   },
   "outputs": [],
   "source": [
    "Fs = 100\n",
    "f = 5\n",
    "sample = 1000\n",
    "x = np.arange(sample)\n",
    "y = np.sin(2 * np.pi * f * x / Fs)"
   ]
  },
  {
   "cell_type": "code",
   "execution_count": 304,
   "metadata": {
    "collapsed": false,
    "nbpresent": {
     "id": "20d2af56-26d3-4b01-8c62-9b1bb3f5ed2f"
    }
   },
   "outputs": [
    {
     "name": "stdout",
     "output_type": "stream",
     "text": [
      "(969, 11, 1) (969, 21, 2)\n"
     ]
    }
   ],
   "source": [
    "# create fake data\n",
    "df = pd.DataFrame(y)\n",
    "df.columns = ['f1']\n",
    "df.index = rng = pd.date_range('1/1/2017', periods=df.shape[0], freq='1s')\n",
    "\n",
    "# transform data into lstm inputs\n",
    "def rnn_data(inp, out, look_back = 0, look_ahead = 0):\n",
    "    xraw = inp.values\n",
    "    yraw = out.values\n",
    "#     print(xraw.shape, yraw.shape)\n",
    "    xdata, ydata = [], []\n",
    "    for i in range(len(xraw)-look_back-look_ahead-1):\n",
    "        a = xraw[i:(i+look_back+1),:]\n",
    "        xdata.append(a)\n",
    "#     print(a.shape)\n",
    "    for i in range(len(yraw)-look_back-look_ahead-1):\n",
    "        a = yraw[(i+look_back+1):(i+look_back+look_ahead+2),:]\n",
    "        ydata.append(a)\n",
    "#     print(a.shape)\n",
    "    \n",
    "    xdata = np.array(xdata)\n",
    "    ydata = np.array(ydata)\n",
    "#     print(xdata.shape, ydata.shape)\n",
    "    assert(len(xdata.shape)==3)\n",
    "    assert(xdata.shape[0] == inp.shape[0]-look_ahead-look_back-1)\n",
    "    assert(xdata.shape[2] == inp.shape[1])\n",
    "    assert(xdata.shape[1]==look_back+1)\n",
    "    assert(len(ydata.shape)==3)\n",
    "    assert(ydata.shape[0] == out.shape[0]-look_ahead-look_back-1)\n",
    "    assert(ydata.shape[2] == out.shape[1])\n",
    "    assert(ydata.shape[1] == look_ahead+1)\n",
    "    \n",
    "#     if ydata.shape[2]==1:\n",
    "#         ydata = ydata.squeeze(axis=2)\n",
    "    \n",
    "    return xdata, ydata\n",
    "\n",
    "xdata, ydata = rnn_data(df[['f1']], df[['f1','f1']], 10, 20)\n",
    "print(xdata.shape, ydata.shape)"
   ]
  },
  {
   "cell_type": "code",
   "execution_count": 305,
   "metadata": {
    "collapsed": true
   },
   "outputs": [],
   "source": [
    "mlen = max(xdata.shape[1], ydata.shape[1])\n",
    "xdata = pad_sequences(xdata, mlen, padding='post', dtype='float32')\n",
    "ydata = pad_sequences(ydata, mlen, padding='pre', dtype='float32')"
   ]
  },
  {
   "cell_type": "code",
   "execution_count": 308,
   "metadata": {
    "collapsed": false,
    "nbpresent": {
     "id": "a580e442-45dd-4a7f-9d84-6974929309a8"
    }
   },
   "outputs": [
    {
     "name": "stdout",
     "output_type": "stream",
     "text": [
      "_________________________________________________________________\n",
      "Layer (type)                 Output Shape              Param #   \n",
      "=================================================================\n",
      "lstm_77 (LSTM)               (None, 21, 50)            10400     \n",
      "_________________________________________________________________\n",
      "dropout_68 (Dropout)         (None, 21, 50)            0         \n",
      "_________________________________________________________________\n",
      "lstm_78 (LSTM)               (None, 21, 100)           60400     \n",
      "_________________________________________________________________\n",
      "dropout_69 (Dropout)         (None, 21, 100)           0         \n",
      "_________________________________________________________________\n",
      "dense_41 (Dense)             (None, 21, 2)             202       \n",
      "_________________________________________________________________\n",
      "activation_27 (Activation)   (None, 21, 2)             0         \n",
      "=================================================================\n",
      "Total params: 71,002\n",
      "Trainable params: 71,002\n",
      "Non-trainable params: 0\n",
      "_________________________________________________________________\n"
     ]
    }
   ],
   "source": [
    "# build keras model\n",
    "model = Sequential()\n",
    "model.add(LSTM(input_shape=(xdata.shape[1], xdata.shape[2]), units=50, return_sequences=True))\n",
    "model.add(Dropout(0.2))\n",
    "model.add(LSTM(units=100, return_sequences=True))\n",
    "model.add(Dropout(0.2))\n",
    "model.add(Dense(ydata.shape[2]))\n",
    "model.add(Activation(\"linear\"))\n",
    "\n",
    "model.compile(loss='mean_squared_error', optimizer='adam')\n",
    "model.summary()"
   ]
  },
  {
   "cell_type": "code",
   "execution_count": 294,
   "metadata": {
    "collapsed": false,
    "nbpresent": {
     "id": "11caa9ce-bb99-41a1-bf72-32c62ffc68c0"
    }
   },
   "outputs": [
    {
     "name": "stdout",
     "output_type": "stream",
     "text": [
      "Train on 872 samples, validate on 97 samples\n",
      "Epoch 1/1\n",
      "872/872 [==============================] - 36s - loss: 0.0597 - val_loss: 0.0264\n"
     ]
    },
    {
     "data": {
      "text/plain": [
       "<keras.callbacks.History at 0x1ff70acff98>"
      ]
     },
     "execution_count": 294,
     "metadata": {},
     "output_type": "execute_result"
    }
   ],
   "source": [
    "# train model on data\n",
    "model.fit(xdata, ydata, epochs=1, batch_size=1, validation_split=0.1)"
   ]
  },
  {
   "cell_type": "code",
   "execution_count": 295,
   "metadata": {
    "collapsed": true,
    "nbpresent": {
     "id": "b93db10b-cc9d-44d0-ab94-b71056ec9a93"
    }
   },
   "outputs": [],
   "source": [
    "# evaluate model on test data\n",
    "ypred = model.predict(xdata)"
   ]
  },
  {
   "cell_type": "code",
   "execution_count": 265,
   "metadata": {
    "collapsed": false,
    "nbpresent": {
     "id": "7fefcfbb-2b81-4433-b7bf-82d7ecc7b768"
    }
   },
   "outputs": [],
   "source": [
    "# plot results\n",
    "# mean_squared_error(ypred, ydata)"
   ]
  },
  {
   "cell_type": "code",
   "execution_count": 301,
   "metadata": {
    "collapsed": false
   },
   "outputs": [
    {
     "data": {
      "text/plain": [
       "[<matplotlib.lines.Line2D at 0x1ff711f4588>]"
      ]
     },
     "execution_count": 301,
     "metadata": {},
     "output_type": "execute_result"
    },
    {
     "data": {
      "image/png": "[encoded data removed]",
      "text/plain": [
       "<matplotlib.figure.Figure at 0x1ff70c77fd0>"
      ]
     },
     "metadata": {},
     "output_type": "display_data"
    }
   ],
   "source": [
    "plt.plot(np.mean(np.power(ydata-ypred,2),axis=0))"
   ]
  },
  {
   "cell_type": "code",
   "execution_count": 300,
   "metadata": {
    "collapsed": false
   },
   "outputs": [
    {
     "data": {
      "text/plain": [
       "[<matplotlib.lines.Line2D at 0x1ff71003be0>]"
      ]
     },
     "execution_count": 300,
     "metadata": {},
     "output_type": "execute_result"
    },
    {
     "data": {
      "image/png": "[encoded data removed]",
      "text/plain": [
       "<matplotlib.figure.Figure at 0x1ff71003cc0>"
      ]
     },
     "metadata": {},
     "output_type": "display_data"
    }
   ],
   "source": [
    "plt.plot(xdata[1:100,10,0])\n",
    "plt.plot(ypred[0,:,0])\n",
    "# plt.plot(ypred[0,:,1])"
   ]
  },
  {
   "cell_type": "code",
   "execution_count": null,
   "metadata": {
    "collapsed": false
   },
   "outputs": [],
   "source": []
  },
  {
   "cell_type": "code",
   "execution_count": null,
   "metadata": {
    "collapsed": true
   },
   "outputs": [],
   "source": []
  }
 ],
 "metadata": {
  "anaconda-cloud": {},
  "kernelspec": {
   "display_name": "Python [Root]",
   "language": "python",
   "name": "Python [Root]"
  },
  "language_info": {
   "codemirror_mode": {
    "name": "ipython",
    "version": 3
   },
   "file_extension": ".py",
   "mimetype": "text/x-python",
   "name": "python",
   "nbconvert_exporter": "python",
   "pygments_lexer": "ipython3",
   "version": "3.5.2"
  },
  "nbpresent": {
   "slides": {
    "172e7891-3721-4adc-9fbe-a5aace8f2e10": {
     "id": "172e7891-3721-4adc-9fbe-a5aace8f2e10",
     "layout": "grid",
     "prev": null,
     "regions": {
      "73fb8067-db5e-4ff6-b9d5-c7051f4d688f": {
       "attrs": {
        "height": 1,
        "pad": 0.01,
        "treemap:weight": 1,
        "width": 1,
        "x": 0,
        "y": 0
       },
       "content": {
        "cell": "20d2af56-26d3-4b01-8c62-9b1bb3f5ed2f",
        "part": "outputs"
       },
       "height": 0.9,
       "id": "73fb8067-db5e-4ff6-b9d5-c7051f4d688f",
       "pad": 0,
       "width": 0.9,
       "x": 0.1,
       "y": 0.1
      }
     }
    },
    "84e75265-04ec-4e91-9916-c094dde7bd47": {
     "id": "84e75265-04ec-4e91-9916-c094dde7bd47",
     "prev": "8cdd80ce-784e-4b1d-a022-0debb832a115",
     "regions": {
      "63407b09-1bd7-4022-a01e-cfa0fcf231fa": {
       "attrs": {
        "height": 0.7633629301572779,
        "width": 0.7262842270013385,
        "x": 0.27371577299866146,
        "y": 0.23663706984272215
       },
       "content": {
        "cell": "a580e442-45dd-4a7f-9d84-6974929309a8",
        "part": "outputs"
       },
       "id": "63407b09-1bd7-4022-a01e-cfa0fcf231fa"
      }
     }
    },
    "8cdd80ce-784e-4b1d-a022-0debb832a115": {
     "id": "8cdd80ce-784e-4b1d-a022-0debb832a115",
     "layout": "manual",
     "prev": "172e7891-3721-4adc-9fbe-a5aace8f2e10",
     "regions": {
      "e797b1a5-8ddf-41ed-b5e3-abf0f76902fe": {
       "attrs": {
        "height": 1,
        "pad": 0.01,
        "treemap:weight": 1,
        "width": 1,
        "x": 0,
        "y": 0
       },
       "content": {
        "cell": "74f26bce-0145-499c-b507-16beef67be8e",
        "part": "outputs"
       },
       "height": 0.9,
       "id": "e797b1a5-8ddf-41ed-b5e3-abf0f76902fe",
       "width": 0.9,
       "x": 0.1,
       "y": 0.1
      }
     }
    }
   },
   "themes": {}
  }
 },
 "nbformat": 4,
 "nbformat_minor": 0
}
