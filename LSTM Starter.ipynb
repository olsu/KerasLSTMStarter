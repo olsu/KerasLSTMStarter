{
 "cells": [
  {
   "cell_type": "code",
   "execution_count": 1,
   "metadata": {
    "collapsed": false,
    "nbpresent": {
     "id": "62465eee-d0f0-4314-8bb4-f48de0cc1265"
    }
   },
   "outputs": [
    {
     "name": "stderr",
     "output_type": "stream",
     "text": [
      "Using TensorFlow backend.\n"
     ]
    }
   ],
   "source": [
    "import numpy as np\n",
    "import pandas as pd\n",
    "from matplotlib import pyplot as plt\n",
    "%matplotlib inline\n",
    "from keras.models import Sequential\n",
    "from keras.layers import Dense\n",
    "from keras.layers import LSTM\n",
    "from keras.layers import Dropout\n",
    "from keras.layers import Activation\n",
    "from keras.preprocessing.sequence import pad_sequences\n",
    "from sklearn.metrics import mean_squared_error, mean_absolute_error"
   ]
  },
  {
   "cell_type": "code",
   "execution_count": 2,
   "metadata": {
    "collapsed": false
   },
   "outputs": [],
   "source": [
    "# transform data into lstm inputs\n",
    "def rnn_data(df, inp_cols, out_cols, look_back = 0, look_ahead = 0, output_seq=True):\n",
    "    xraw = df[inp_cols].values\n",
    "    yraw = df[inp_cols].values\n",
    "    traw = df.index\n",
    "    \n",
    "    n = len(df)-look_back-look_ahead-1\n",
    "    \n",
    "    xdata = np.zeros((n, look_back+1, xraw.shape[1]))\n",
    "    ydata = np.zeros((n, look_ahead+1, yraw.shape[1]))\n",
    "    tx = np.zeros((n, look_back+1))\n",
    "    ty = np.zeros((n, look_ahead+1))\n",
    "    \n",
    "    for i in range(n):\n",
    "        lb = range(i, i+look_back+1)\n",
    "        xdata[i,:,:] = xraw[lb,:]\n",
    "        tx[i,:] = traw[lb]\n",
    "    for i in range(n):\n",
    "        la = range(i+look_back+1, i+look_back+look_ahead+2)\n",
    "        ydata[i,:,:] = yraw[la,:]\n",
    "        ty[i,:] = traw[la]\n",
    "\n",
    "    assert(len(xdata.shape)==3)\n",
    "    assert(xdata.shape[0] == xraw.shape[0]-look_ahead-look_back-1)\n",
    "    assert(xdata.shape[2] == xraw.shape[1])\n",
    "    assert(xdata.shape[1]==look_back+1)\n",
    "    assert(len(ydata.shape)==3)\n",
    "    assert(ydata.shape[0] == yraw.shape[0]-look_ahead-look_back-1)\n",
    "    assert(ydata.shape[2] == yraw.shape[1])\n",
    "    assert(ydata.shape[1] == look_ahead+1)\n",
    "    \n",
    "    if ~output_seq and ydata.shape[2]==1:\n",
    "        ydata = ydata.squeeze(axis=2)\n",
    "    else:\n",
    "        mlen = max(xdata.shape[1], ydata.shape[1])\n",
    "        xdata = pad_sequences(xdata, mlen, padding='post', dtype='float32')\n",
    "        tx = pad_sequences(tx, mlen, padding='post', dtype='float32')\n",
    "        ydata = pad_sequences(ydata, mlen, padding='pre', dtype='float32')\n",
    "        ty = pad_sequences(ty, mlen, padding='pre', dtype='float32')\n",
    "    \n",
    "    return xdata, ydata, tx, ty"
   ]
  },
  {
   "cell_type": "code",
   "execution_count": 3,
   "metadata": {
    "collapsed": false,
    "nbpresent": {
     "id": "20d2af56-26d3-4b01-8c62-9b1bb3f5ed2f"
    }
   },
   "outputs": [
    {
     "name": "stdout",
     "output_type": "stream",
     "text": [
      "(959, 21, 1) (959, 21)\n"
     ]
    }
   ],
   "source": [
    "# create fake data\n",
    "Fs = 100\n",
    "f = 5\n",
    "sample = 1000\n",
    "x = np.arange(sample)\n",
    "y = np.sin(2 * np.pi * f * x / Fs)\n",
    "\n",
    "df = pd.DataFrame(y)\n",
    "df.columns = ['f1']\n",
    "df.index = rng = pd.date_range('1/1/2017', periods=df.shape[0], freq='1s')\n",
    "\n",
    "xdata, ydata, tx, ty = rnn_data(df, ['f1'], ['f1'], 20, 20, output_seq=False)\n",
    "print(xdata.shape, ydata.shape)"
   ]
  },
  {
   "cell_type": "code",
   "execution_count": 4,
   "metadata": {
    "collapsed": false,
    "nbpresent": {
     "id": "a580e442-45dd-4a7f-9d84-6974929309a8"
    }
   },
   "outputs": [
    {
     "name": "stdout",
     "output_type": "stream",
     "text": [
      "_________________________________________________________________\n",
      "Layer (type)                 Output Shape              Param #   \n",
      "=================================================================\n",
      "lstm_1 (LSTM)                (None, 21, 50)            10400     \n",
      "_________________________________________________________________\n",
      "dropout_1 (Dropout)          (None, 21, 50)            0         \n",
      "_________________________________________________________________\n",
      "lstm_2 (LSTM)                (None, 100)               60400     \n",
      "_________________________________________________________________\n",
      "dropout_2 (Dropout)          (None, 100)               0         \n",
      "_________________________________________________________________\n",
      "dense_1 (Dense)              (None, 21)                2121      \n",
      "_________________________________________________________________\n",
      "activation_1 (Activation)    (None, 21)                0         \n",
      "=================================================================\n",
      "Total params: 72,921\n",
      "Trainable params: 72,921\n",
      "Non-trainable params: 0\n",
      "_________________________________________________________________\n"
     ]
    }
   ],
   "source": [
    "# build keras model\n",
    "model = Sequential()\n",
    "if len(ydata.shape)==3:\n",
    "    # using sequence output, y-data has dim=3\n",
    "    model.add(LSTM(input_shape=(xdata.shape[1], xdata.shape[2]), units=50, return_sequences=True))\n",
    "    model.add(Dropout(0.2))\n",
    "    model.add(LSTM(units=100, return_sequences=True))\n",
    "    model.add(Dropout(0.2))\n",
    "    model.add(Dense(ydata.shape[2]))\n",
    "    model.add(Activation(\"linear\"))\n",
    "else:\n",
    "    # not using sequence output, y-data has dim=2\n",
    "    model.add(LSTM(input_shape=(xdata.shape[1], xdata.shape[2]), units=50, return_sequences=True))\n",
    "    model.add(Dropout(0.2))\n",
    "    model.add(LSTM(units=100, return_sequences=False))\n",
    "    model.add(Dropout(0.2))\n",
    "    model.add(Dense(ydata.shape[1]))\n",
    "    model.add(Activation(\"linear\"))\n",
    "    \n",
    "model.compile(loss='mean_squared_error', optimizer='adam')\n",
    "model.summary()"
   ]
  },
  {
   "cell_type": "code",
   "execution_count": 5,
   "metadata": {
    "collapsed": false,
    "nbpresent": {
     "id": "11caa9ce-bb99-41a1-bf72-32c62ffc68c0"
    }
   },
   "outputs": [
    {
     "name": "stdout",
     "output_type": "stream",
     "text": [
      "Train on 863 samples, validate on 96 samples\n",
      "Epoch 1/10\n",
      "863/863 [==============================] - 2s - loss: 0.4768 - val_loss: 0.4296\n",
      "Epoch 2/10\n",
      "863/863 [==============================] - 0s - loss: 0.3463 - val_loss: 0.1717\n",
      "Epoch 3/10\n",
      "863/863 [==============================] - 0s - loss: 0.1103 - val_loss: 0.0360\n",
      "Epoch 4/10\n",
      "863/863 [==============================] - 0s - loss: 0.0364 - val_loss: 0.0143\n",
      "Epoch 5/10\n",
      "863/863 [==============================] - 0s - loss: 0.0258 - val_loss: 0.0042\n",
      "Epoch 6/10\n",
      "863/863 [==============================] - 0s - loss: 0.0210 - val_loss: 0.0024\n",
      "Epoch 7/10\n",
      "863/863 [==============================] - 0s - loss: 0.0174 - val_loss: 0.0011\n",
      "Epoch 8/10\n",
      "863/863 [==============================] - 0s - loss: 0.0158 - val_loss: 6.8102e-04\n",
      "Epoch 9/10\n",
      "863/863 [==============================] - 0s - loss: 0.0143 - val_loss: 7.8033e-04\n",
      "Epoch 10/10\n",
      "863/863 [==============================] - 0s - loss: 0.0139 - val_loss: 3.9221e-04\n"
     ]
    },
    {
     "data": {
      "text/plain": [
       "<keras.callbacks.History at 0x22418cf52b0>"
      ]
     },
     "execution_count": 5,
     "metadata": {},
     "output_type": "execute_result"
    }
   ],
   "source": [
    "# train model on data\n",
    "model.fit(xdata, ydata, epochs=10, batch_size=100, validation_split=0.1)"
   ]
  },
  {
   "cell_type": "code",
   "execution_count": 6,
   "metadata": {
    "collapsed": true,
    "nbpresent": {
     "id": "b93db10b-cc9d-44d0-ab94-b71056ec9a93"
    }
   },
   "outputs": [],
   "source": [
    "# make the predictions\n",
    "ypred = model.predict(xdata)"
   ]
  },
  {
   "cell_type": "code",
   "execution_count": 7,
   "metadata": {
    "collapsed": false
   },
   "outputs": [
    {
     "data": {
      "image/png": "[encoded data removed]",
      "text/plain": [
       "<matplotlib.figure.Figure at 0x22418e7d4e0>"
      ]
     },
     "metadata": {},
     "output_type": "display_data"
    }
   ],
   "source": [
    "plt.plot(np.mean(np.power(ydata.squeeze()-ypred.squeeze(),2),axis=0));\n",
    "plt.title('prediction error');"
   ]
  },
  {
   "cell_type": "code",
   "execution_count": 8,
   "metadata": {
    "collapsed": false
   },
   "outputs": [
    {
     "data": {
      "image/png": "[encoded data removed]",
      "text/plain": [
       "<matplotlib.figure.Figure at 0x224190f27f0>"
      ]
     },
     "metadata": {},
     "output_type": "display_data"
    }
   ],
   "source": [
    "plt.plot(tx[0:ydata.shape[1]+1,-1], xdata[0:ydata.shape[1]+1,-1,0]);\n",
    "plt.plot(ty[0,:], ypred[0,:]);\n",
    "plt.title('first prediction');"
   ]
  },
  {
   "cell_type": "code",
   "execution_count": 9,
   "metadata": {
    "collapsed": false
   },
   "outputs": [
    {
     "data": {
      "image/png": "[encoded data removed]",
      "text/plain": [
       "<matplotlib.figure.Figure at 0x224191b1a90>"
      ]
     },
     "metadata": {},
     "output_type": "display_data"
    }
   ],
   "source": [
    "# testing the last row of the input data\n",
    "ytmp = model.predict(xdata[-2:-1,:,:])\n",
    "plt.plot(ty[-2:-1,:].squeeze(), ydata[-2:-1,:].squeeze())\n",
    "plt.plot(ty[-2:-1,:].squeeze(), ytmp.squeeze())\n",
    "plt.plot(tx[-2:-1,:].squeeze(), xdata[-2:-1,:,:].squeeze())\n",
    "plt.grid()"
   ]
  },
  {
   "cell_type": "code",
   "execution_count": null,
   "metadata": {
    "collapsed": true
   },
   "outputs": [],
   "source": []
  }
 ],
 "metadata": {
  "anaconda-cloud": {},
  "kernelspec": {
   "display_name": "Python [Root]",
   "language": "python",
   "name": "Python [Root]"
  },
  "language_info": {
   "codemirror_mode": {
    "name": "ipython",
    "version": 3
   },
   "file_extension": ".py",
   "mimetype": "text/x-python",
   "name": "python",
   "nbconvert_exporter": "python",
   "pygments_lexer": "ipython3",
   "version": "3.5.2"
  },
  "nbpresent": {
   "slides": {
    "172e7891-3721-4adc-9fbe-a5aace8f2e10": {
     "id": "172e7891-3721-4adc-9fbe-a5aace8f2e10",
     "layout": "grid",
     "prev": null,
     "regions": {
      "73fb8067-db5e-4ff6-b9d5-c7051f4d688f": {
       "attrs": {
        "height": 1,
        "pad": 0.01,
        "treemap:weight": 1,
        "width": 1,
        "x": 0,
        "y": 0
       },
       "content": {
        "cell": "20d2af56-26d3-4b01-8c62-9b1bb3f5ed2f",
        "part": "outputs"
       },
       "height": 0.9,
       "id": "73fb8067-db5e-4ff6-b9d5-c7051f4d688f",
       "pad": 0,
       "width": 0.9,
       "x": 0.1,
       "y": 0.1
      }
     }
    },
    "84e75265-04ec-4e91-9916-c094dde7bd47": {
     "id": "84e75265-04ec-4e91-9916-c094dde7bd47",
     "prev": "8cdd80ce-784e-4b1d-a022-0debb832a115",
     "regions": {
      "63407b09-1bd7-4022-a01e-cfa0fcf231fa": {
       "attrs": {
        "height": 0.7633629301572779,
        "width": 0.7262842270013385,
        "x": 0.27371577299866146,
        "y": 0.23663706984272215
       },
       "content": {
        "cell": "a580e442-45dd-4a7f-9d84-6974929309a8",
        "part": "outputs"
       },
       "id": "63407b09-1bd7-4022-a01e-cfa0fcf231fa"
      }
     }
    },
    "8cdd80ce-784e-4b1d-a022-0debb832a115": {
     "id": "8cdd80ce-784e-4b1d-a022-0debb832a115",
     "layout": "manual",
     "prev": "172e7891-3721-4adc-9fbe-a5aace8f2e10",
     "regions": {
      "e797b1a5-8ddf-41ed-b5e3-abf0f76902fe": {
       "attrs": {
        "height": 1,
        "pad": 0.01,
        "treemap:weight": 1,
        "width": 1,
        "x": 0,
        "y": 0
       },
       "content": {
        "cell": "74f26bce-0145-499c-b507-16beef67be8e",
        "part": "outputs"
       },
       "height": 0.9,
       "id": "e797b1a5-8ddf-41ed-b5e3-abf0f76902fe",
       "width": 0.9,
       "x": 0.1,
       "y": 0.1
      }
     }
    }
   },
   "themes": {}
  }
 },
 "nbformat": 4,
 "nbformat_minor": 0
}
